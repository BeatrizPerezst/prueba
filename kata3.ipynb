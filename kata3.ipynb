{
 "cells": [
  {
   "cell_type": "markdown",
   "metadata": {},
   "source": [
    "# Ejercicio 1"
   ]
  },
  {
   "cell_type": "code",
   "execution_count": 22,
   "metadata": {},
   "outputs": [
    {
     "name": "stdout",
     "output_type": "stream",
     "text": [
      "ADVERTENCIA: Un asteroide se acerca\n"
     ]
    }
   ],
   "source": [
    "asteroide = 49\n",
    "if asteroide > 25:\n",
    "     print (\"ADVERTENCIA: Un asteroide se acerca.\")"
   ]
  },
  {
   "cell_type": "markdown",
   "metadata": {},
   "source": [
    "# Ejercicio 2"
   ]
  },
  {
   "cell_type": "code",
   "execution_count": 25,
   "metadata": {},
   "outputs": [
    {
     "name": "stdout",
     "output_type": "stream",
     "text": [
      "Todo correcto\n"
     ]
    }
   ],
   "source": [
    "asteroide = 19\n",
    "if asteroide > 20 :\n",
    "    print (\"Un rayo de luz ilumina el cielo, asteroide detectado.\")\n",
    "elif asteroide ==20 :\n",
    "    print (\"Un rayo de luz ilumina el cielo, asteroide detectado.\")\n",
    "else :\n",
    "    print (\"Todo correcto.\")"
   ]
  },
  {
   "cell_type": "markdown",
   "metadata": {},
   "source": [
    "# Ejercicio 3"
   ]
  },
  {
   "cell_type": "code",
   "execution_count": 27,
   "metadata": {},
   "outputs": [
    {
     "name": "stdout",
     "output_type": "stream",
     "text": [
      "Un rayo de luz ilumina el cielo, asteroide detectado.\n"
     ]
    }
   ],
   "source": [
    "vel_asteroide = 25\n",
    "tam_asteroide = 60\n",
    "if vel_asteroide > 25 and tam_asteroide > 25 :\n",
    "    print (\"PELIGRO ASTEROIDE ACERCANDOSE A LA TIERRA.\")\n",
    "elif vel_asteroide >= 20:\n",
    "    print (\"Un rayo de luz ilumina el cielo, asteroide detectado.\")\n",
    "elif tam_asteroide <25:\n",
    "    print (\"Todo correcto.\")\n",
    "else :\n",
    "    print (\"Todo correcto.\")"
   ]
  }
 ],
 "metadata": {
  "interpreter": {
   "hash": "aee8b7b246df8f9039afb4144a1f6fd8d2ca17a180786b69acc140d282b71a49"
  },
  "kernelspec": {
   "display_name": "Python 3.10.2 64-bit",
   "language": "python",
   "name": "python3"
  },
  "language_info": {
   "codemirror_mode": {
    "name": "ipython",
    "version": 3
   },
   "file_extension": ".py",
   "mimetype": "text/x-python",
   "name": "python",
   "nbconvert_exporter": "python",
   "pygments_lexer": "ipython3",
   "version": "3.10.2"
  },
  "orig_nbformat": 4
 },
 "nbformat": 4,
 "nbformat_minor": 2
}
